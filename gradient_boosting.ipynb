{
 "cells": [
  {
   "cell_type": "code",
   "execution_count": 1,
   "metadata": {},
   "outputs": [],
   "source": [
    "# code from here: https://www.kaggle.com/beagle01/prediction-with-gradient-boosting-classifier"
   ]
  },
  {
   "cell_type": "code",
   "execution_count": 4,
   "metadata": {},
   "outputs": [],
   "source": [
    "import numpy as np\n",
    "import pandas as pd\n",
    "import matplotlib.pyplot as plt\n",
    "# import machine learning algorithms\n",
    "from sklearn.ensemble import GradientBoostingClassifier\n",
    "from sklearn.metrics import classification_report, confusion_matrix, roc_curve, auc"
   ]
  },
  {
   "cell_type": "code",
   "execution_count": 2,
   "metadata": {},
   "outputs": [],
   "source": []
  },
  {
   "cell_type": "code",
   "execution_count": 5,
   "metadata": {},
   "outputs": [],
   "source": [
    "# import data\n",
    "train = pd.read_csv('train.csv')\n",
    "test = pd.read_csv('test.csv')"
   ]
  },
  {
   "cell_type": "code",
   "execution_count": 6,
   "metadata": {},
   "outputs": [],
   "source": [
    "# data preparation training set\n",
    "train_labels = train[\"label\"].values\n",
    "train_images = train.loc[:, train.columns != \"label\"].values\n",
    "train_images = train_images / 255.0"
   ]
  },
  {
   "cell_type": "code",
   "execution_count": 7,
   "metadata": {},
   "outputs": [],
   "source": [
    "# splitting the training set \n",
    "split_point = int(0.66 * len(train_images))\n",
    "\n",
    "x_train = train_images[:split_point]\n",
    "y_train = train_labels[:split_point]\n",
    "\n",
    "x_test = train_images[split_point:]\n",
    "y_test = train_labels[split_point:]"
   ]
  },
  {
   "cell_type": "code",
   "execution_count": 8,
   "metadata": {},
   "outputs": [],
   "source": [
    "# data preparation test set\n",
    "test_images = test.loc[:, test.columns != \"label\"].values\n",
    "test_images = test_images / 255.0"
   ]
  },
  {
   "cell_type": "code",
   "execution_count": 9,
   "metadata": {},
   "outputs": [
    {
     "name": "stdout",
     "output_type": "stream",
     "text": [
      "Learning rate:  0.05\n",
      "Accuracy score (training): 0.666\n",
      "Accuracy score (validation): 0.656\n",
      "\n",
      "Learning rate:  0.1\n",
      "Accuracy score (training): 0.701\n",
      "Accuracy score (validation): 0.689\n",
      "\n",
      "Learning rate:  0.25\n",
      "Accuracy score (training): 0.741\n",
      "Accuracy score (validation): 0.733\n",
      "\n",
      "Learning rate:  0.5\n",
      "Accuracy score (training): 0.767\n",
      "Accuracy score (validation): 0.757\n",
      "\n",
      "Learning rate:  0.75\n",
      "Accuracy score (training): 0.777\n",
      "Accuracy score (validation): 0.761\n",
      "\n",
      "Learning rate:  1\n",
      "Accuracy score (training): 0.777\n",
      "Accuracy score (validation): 0.758\n",
      "\n"
     ]
    }
   ],
   "source": [
    "# train with Gradient Boosting algorithm\n",
    "# compute the accuracy scores on train and validation sets when training with different learning rates\n",
    "\n",
    "learning_rates = [0.05, 0.1, 0.25, 0.5, 0.75, 1]\n",
    "for learning_rate in learning_rates:\n",
    "    gb = GradientBoostingClassifier(n_estimators=20, learning_rate = learning_rate, max_features=2, max_depth = 2, random_state = 0)\n",
    "    gb.fit(x_train, y_train)\n",
    "    print(\"Learning rate: \", learning_rate)\n",
    "    print(\"Accuracy score (training): {0:.3f}\".format(gb.score(x_train, y_train)))\n",
    "    print(\"Accuracy score (validation): {0:.3f}\".format(gb.score(x_test, y_test)))\n",
    "    print()"
   ]
  },
  {
   "cell_type": "code",
   "execution_count": 11,
   "metadata": {},
   "outputs": [
    {
     "name": "stdout",
     "output_type": "stream",
     "text": [
      "Conclusion: a basic application of Gradient boosting is lame for this problem\n"
     ]
    }
   ],
   "source": [
    "print(\"Conclusion: a basic application of Gradient boosting is lame for this problem\")"
   ]
  }
 ],
 "metadata": {
  "kernelspec": {
   "display_name": "Python 3",
   "language": "python",
   "name": "python3"
  },
  "language_info": {
   "codemirror_mode": {
    "name": "ipython",
    "version": 3
   },
   "file_extension": ".py",
   "mimetype": "text/x-python",
   "name": "python",
   "nbconvert_exporter": "python",
   "pygments_lexer": "ipython3",
   "version": "3.6.3"
  }
 },
 "nbformat": 4,
 "nbformat_minor": 2
}
